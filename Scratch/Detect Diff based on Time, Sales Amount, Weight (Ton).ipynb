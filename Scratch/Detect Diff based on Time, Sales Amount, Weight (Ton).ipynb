{
 "cells": [
  {
   "cell_type": "markdown",
   "metadata": {},
   "source": [
    "# Import Library"
   ]
  },
  {
   "cell_type": "code",
   "execution_count": 61,
   "metadata": {},
   "outputs": [],
   "source": [
    "import pandas as pd"
   ]
  },
  {
   "cell_type": "markdown",
   "metadata": {},
   "source": [
    "# Import Data"
   ]
  },
  {
   "cell_type": "code",
   "execution_count": 62,
   "metadata": {},
   "outputs": [],
   "source": [
    "#OurData\n",
    "dfOur = pd.read_csv(\"..\")\n",
    "\n",
    "#UserData\n",
    "dfUser = pd.read_excel(\"..\")\n",
    "\n",
    "#Billing Number Initial FENNY data\n",
    "dfFenny = pd.read_excel(\"Tissue Direct 2008-2019.xlsx\")"
   ]
  },
  {
   "cell_type": "code",
   "execution_count": 141,
   "metadata": {
    "scrolled": true
   },
   "outputs": [
    {
     "data": {
      "text/plain": [
       "Index(['Periods', 'S+R', 'Material', 'CHA', 'CHANNEL', 'RETAIL/AFH', 'STORE',\n",
       "       'Customer', 'Cust Name', 'NW (Ton)', 'Value (IDR)', 'Value (USD)',\n",
       "       'Ship To', 'Ship To Name', 'Qty (Karton)', 'Sales Person', 'SO No',\n",
       "       'GI Date', 'RDD', 'B_ArtCode', 'B_Carton Code', 'B_Material Text',\n",
       "       'B_Brand', 'B_Brand-2', 'B_Category', 'B_Category-2', 'B_Category-3',\n",
       "       'B_StatusSKU', 'B_Mill', 'B_Zone', 'B_Zone-2', 'B_Zone-3', 'B_Town',\n",
       "       'D_NOND', 'B_Week', 'B_Week Rdd'],\n",
       "      dtype='object')"
      ]
     },
     "execution_count": 141,
     "metadata": {},
     "output_type": "execute_result"
    }
   ],
   "source": [
    "dfUser.columns"
   ]
  },
  {
   "cell_type": "code",
   "execution_count": 142,
   "metadata": {
    "scrolled": true
   },
   "outputs": [
    {
     "name": "stdout",
     "output_type": "stream",
     "text": [
      "Our Data Dimension   (1975994, 45)\n",
      "Our Null Data   KEY_SR                                    0\n",
      "Act.goods issue date                      0\n",
      "Billing item                              0\n",
      "Sales document                            0\n",
      "Sales document item                       0\n",
      "Billing number                            0\n",
      "Cancelled                           1954989\n",
      "Sales organization                        0\n",
      "Brand ID                                  0\n",
      "Brand (Group)                        238041\n",
      "Order Type                                0\n",
      "GSM                                       0\n",
      "Material ID                               0\n",
      "Manufacturing Mill                       77\n",
      "Mill                                      0\n",
      "Material Classification                   0\n",
      "Matl Group                                0\n",
      "Material Division                         0\n",
      "Req. Delivery Dt/ESD                      0\n",
      "Ship to Party                             0\n",
      "Country (Ship To)                      1312\n",
      "Sold to Party                             0\n",
      "Country (Sold To)                         0\n",
      "Local Area (Sold To)                 897716\n",
      "Calendar day                              0\n",
      "Inv. Weight (MT)                          0\n",
      "Inv Sell Val Doc Cur                      0\n",
      "Disc. Amount(Doc. Curr.)                  0\n",
      "CURRENCY001 Inv. Weight (MT)        1975994\n",
      "UNIT001 Inv. Weight (MT)            1975994\n",
      "CURRENCY002 Inv Sell Val Doc Cur          0\n",
      "UNIT002 Inv Sell Val Doc Cur        1975994\n",
      "Brand ID TEXT                           712\n",
      "Order Type TEXT                           0\n",
      "Material ID TEXT                          0\n",
      "Manufacturing Mill TEXT                   0\n",
      "Mill TEXT                                 8\n",
      "Matl Class TEXT                           0\n",
      "Matl Group TEXT                           0\n",
      "Matl Division TEXT                        0\n",
      "Sales organization TEXT                   0\n",
      "Ship to Party TEXT                        0\n",
      "Country (Ship To) TEXT                 1312\n",
      "Sold to Party TEXT                        0\n",
      "Country (Sold To) TEXT                    0\n",
      "dtype: int64\n",
      "Our Data Types  KEY_SR                                int64\n",
      "Act.goods issue date                 object\n",
      "Billing item                          int64\n",
      "Sales document                        int64\n",
      "Sales document item                   int64\n",
      "Billing number                       object\n",
      "Cancelled                            object\n",
      "Sales organization                    int64\n",
      "Brand ID                             object\n",
      "Brand (Group)                        object\n",
      "Order Type                           object\n",
      "GSM                                   int64\n",
      "Material ID                           int64\n",
      "Manufacturing Mill                   object\n",
      "Mill                                  int64\n",
      "Material Classification               int64\n",
      "Matl Group                            int64\n",
      "Material Division                     int64\n",
      "Req. Delivery Dt/ESD                 object\n",
      "Ship to Party                         int64\n",
      "Country (Ship To)                    object\n",
      "Sold to Party                         int64\n",
      "Country (Sold To)                    object\n",
      "Local Area (Sold To)                 object\n",
      "Calendar day                         object\n",
      "Inv. Weight (MT)                    float64\n",
      "Inv Sell Val Doc Cur                float64\n",
      "Disc. Amount(Doc. Curr.)              int64\n",
      "CURRENCY001 Inv. Weight (MT)        float64\n",
      "UNIT001 Inv. Weight (MT)            float64\n",
      "CURRENCY002 Inv Sell Val Doc Cur     object\n",
      "UNIT002 Inv Sell Val Doc Cur        float64\n",
      "Brand ID TEXT                        object\n",
      "Order Type TEXT                      object\n",
      "Material ID TEXT                     object\n",
      "Manufacturing Mill TEXT              object\n",
      "Mill TEXT                            object\n",
      "Matl Class TEXT                      object\n",
      "Matl Group TEXT                      object\n",
      "Matl Division TEXT                   object\n",
      "Sales organization TEXT              object\n",
      "Ship to Party TEXT                   object\n",
      "Country (Ship To) TEXT               object\n",
      "Sold to Party TEXT                   object\n",
      "Country (Sold To) TEXT               object\n",
      "dtype: object\n",
      "Our Data Columns  Index(['KEY_SR', 'Act.goods issue date', 'Billing item', 'Sales document',\n",
      "       'Sales document item', 'Billing number', 'Cancelled',\n",
      "       'Sales organization', 'Brand ID', 'Brand (Group)', 'Order Type', 'GSM',\n",
      "       'Material ID', 'Manufacturing Mill', 'Mill', 'Material Classification',\n",
      "       'Matl Group', 'Material Division', 'Req. Delivery Dt/ESD',\n",
      "       'Ship to Party', 'Country (Ship To)', 'Sold to Party',\n",
      "       'Country (Sold To)', 'Local Area (Sold To)', 'Calendar day',\n",
      "       'Inv. Weight (MT)', 'Inv Sell Val Doc Cur', 'Disc. Amount(Doc. Curr.)',\n",
      "       'CURRENCY001 Inv. Weight (MT)', 'UNIT001 Inv. Weight (MT)',\n",
      "       'CURRENCY002 Inv Sell Val Doc Cur', 'UNIT002 Inv Sell Val Doc Cur',\n",
      "       'Brand ID TEXT', 'Order Type TEXT', 'Material ID TEXT',\n",
      "       'Manufacturing Mill TEXT', 'Mill TEXT', 'Matl Class TEXT',\n",
      "       'Matl Group TEXT', 'Matl Division TEXT', 'Sales organization TEXT',\n",
      "       'Ship to Party TEXT', 'Country (Ship To) TEXT', 'Sold to Party TEXT',\n",
      "       'Country (Sold To) TEXT'],\n",
      "      dtype='object')\n"
     ]
    }
   ],
   "source": [
    "#Inspection Our Data\n",
    "print(\"Our Data Dimension  \", dfOur.shape)\n",
    "print(\"Our Null Data  \",dfOur.isnull().sum())\n",
    "print(\"Our Data Types \", dfOur.dtypes)\n",
    "print(\"Our Data Columns \",dfOur.columns)"
   ]
  },
  {
   "cell_type": "code",
   "execution_count": 143,
   "metadata": {
    "scrolled": true
   },
   "outputs": [
    {
     "name": "stdout",
     "output_type": "stream",
     "text": [
      "User Data Dimension   (366887, 36)\n",
      "User Null Data   Periods              0\n",
      "S+R                  0\n",
      "Material             0\n",
      "CHA                  0\n",
      "CHANNEL              0\n",
      "RETAIL/AFH           0\n",
      "STORE                0\n",
      "Customer             0\n",
      "Cust Name            0\n",
      "NW (Ton)             0\n",
      "Value (IDR)          0\n",
      "Value (USD)          0\n",
      "Ship To              0\n",
      "Ship To Name         0\n",
      "Qty (Karton)         0\n",
      "Sales Person        24\n",
      "SO No                0\n",
      "GI Date              0\n",
      "RDD                  0\n",
      "B_ArtCode          474\n",
      "B_Carton Code      198\n",
      "B_Material Text    474\n",
      "B_Brand             37\n",
      "B_Brand-2           37\n",
      "B_Category           0\n",
      "B_Category-2         0\n",
      "B_Category-3         0\n",
      "B_StatusSKU         59\n",
      "B_Mill               0\n",
      "B_Zone               0\n",
      "B_Zone-2             0\n",
      "B_Zone-3             0\n",
      "B_Town               0\n",
      "D_NOND               0\n",
      "B_Week               0\n",
      "B_Week Rdd          23\n",
      "dtype: int64\n",
      "User Data Types  Periods             object\n",
      "S+R                 object\n",
      "Material             int64\n",
      "CHA                 object\n",
      "CHANNEL             object\n",
      "RETAIL/AFH          object\n",
      "STORE               object\n",
      "Customer             int64\n",
      "Cust Name           object\n",
      "NW (Ton)           float64\n",
      "Value (IDR)        float64\n",
      "Value (USD)        float64\n",
      "Ship To              int64\n",
      "Ship To Name        object\n",
      "Qty (Karton)       float64\n",
      "Sales Person        object\n",
      "SO No                int64\n",
      "GI Date             object\n",
      "RDD                 object\n",
      "B_ArtCode          float64\n",
      "B_Carton Code      float64\n",
      "B_Material Text     object\n",
      "B_Brand             object\n",
      "B_Brand-2           object\n",
      "B_Category          object\n",
      "B_Category-2        object\n",
      "B_Category-3        object\n",
      "B_StatusSKU         object\n",
      "B_Mill              object\n",
      "B_Zone              object\n",
      "B_Zone-2            object\n",
      "B_Zone-3            object\n",
      "B_Town              object\n",
      "D_NOND              object\n",
      "B_Week              object\n",
      "B_Week Rdd          object\n",
      "dtype: object\n",
      "User Data Columns  Index(['Periods', 'S+R', 'Material', 'CHA', 'CHANNEL', 'RETAIL/AFH', 'STORE',\n",
      "       'Customer', 'Cust Name', 'NW (Ton)', 'Value (IDR)', 'Value (USD)',\n",
      "       'Ship To', 'Ship To Name', 'Qty (Karton)', 'Sales Person', 'SO No',\n",
      "       'GI Date', 'RDD', 'B_ArtCode', 'B_Carton Code', 'B_Material Text',\n",
      "       'B_Brand', 'B_Brand-2', 'B_Category', 'B_Category-2', 'B_Category-3',\n",
      "       'B_StatusSKU', 'B_Mill', 'B_Zone', 'B_Zone-2', 'B_Zone-3', 'B_Town',\n",
      "       'D_NOND', 'B_Week', 'B_Week Rdd'],\n",
      "      dtype='object')\n"
     ]
    }
   ],
   "source": [
    "#Inspection Our Data\n",
    "print(\"User Data Dimension  \", dfUser.shape)\n",
    "print(\"User Null Data  \",dfUser.isnull().sum())\n",
    "print(\"User Data Types \", dfUser.dtypes)\n",
    "print(\"User Data Columns \",dfUser.columns)"
   ]
  },
  {
   "cell_type": "markdown",
   "metadata": {},
   "source": [
    "# Data Engineering "
   ]
  },
  {
   "cell_type": "markdown",
   "metadata": {},
   "source": [
    "## Our Data Engineering "
   ]
  },
  {
   "cell_type": "code",
   "execution_count": 144,
   "metadata": {},
   "outputs": [],
   "source": [
    "#Before we do filtering, we have take out all of Billing number of dfFenny\n",
    "\n",
    "#Change data type of Billing number of dfOur to object\n",
    "dfOur['Billing number'] = dfOur['Billing number'].astype(str)\n",
    "\n",
    "#First beforeTake out billing number which there are in dfFenny \n",
    "dfOur2 = dfOur.loc[pd.merge(dfOur, dfFenny, on=['Billing number'], how='left', indicator=True)['_merge'] == 'left_only']"
   ]
  },
  {
   "cell_type": "code",
   "execution_count": 145,
   "metadata": {},
   "outputs": [
    {
     "name": "stderr",
     "output_type": "stream",
     "text": [
      "C:\\Users\\01135710\\AppData\\Local\\Continuum\\anaconda3\\lib\\site-packages\\ipykernel_launcher.py:3: SettingWithCopyWarning: \n",
      "A value is trying to be set on a copy of a slice from a DataFrame.\n",
      "Try using .loc[row_indexer,col_indexer] = value instead\n",
      "\n",
      "See the caveats in the documentation: http://pandas.pydata.org/pandas-docs/stable/indexing.html#indexing-view-versus-copy\n",
      "  This is separate from the ipykernel package so we can avoid doing imports until\n"
     ]
    }
   ],
   "source": [
    "#One of the steps to compare our data and user data is Value (IDR), so we need add new Value (IDR) column, beacuse we haven't\n",
    "#before\n",
    "dfOur2['Value (IDR)']=dfOur2['Inv Sell Val Doc Cur']-dfOur2['Disc. Amount(Doc. Curr.)']"
   ]
  },
  {
   "cell_type": "code",
   "execution_count": 146,
   "metadata": {},
   "outputs": [],
   "source": [
    "#Take features that we need\n",
    "dfOur2 = dfOur2[['Act.goods issue date','Material ID','Req. Delivery Dt/ESD','Ship to Party','Sold to Party','Inv. Weight (MT)',\n",
    "       'Billing number','Value (IDR)']]"
   ]
  },
  {
   "cell_type": "code",
   "execution_count": 147,
   "metadata": {},
   "outputs": [],
   "source": [
    "#Change of each features name \n",
    "dfOur2.columns = ['GI Date', 'Material','Req. Delivery Dt/ESD','Ship To', 'Customer','NW (Ton)','Billing number','Value (IDR)']"
   ]
  },
  {
   "cell_type": "code",
   "execution_count": 148,
   "metadata": {},
   "outputs": [],
   "source": [
    "#Check GI feature\n",
    "dfOur2['GI Date'].value_counts()\n",
    "\n",
    "#Take out 00000000 value\n",
    "dfOur2 = dfOur2[dfOur2['GI Date'] != '00000000'] "
   ]
  },
  {
   "cell_type": "code",
   "execution_count": 149,
   "metadata": {},
   "outputs": [],
   "source": [
    "#Change data type of GI Date to Date\n",
    "dfOur2['GI Date'] = pd.to_datetime(dfOur2['GI Date'],dayfirst=True) "
   ]
  },
  {
   "cell_type": "code",
   "execution_count": 150,
   "metadata": {},
   "outputs": [
    {
     "data": {
      "text/html": [
       "<div>\n",
       "<style scoped>\n",
       "    .dataframe tbody tr th:only-of-type {\n",
       "        vertical-align: middle;\n",
       "    }\n",
       "\n",
       "    .dataframe tbody tr th {\n",
       "        vertical-align: top;\n",
       "    }\n",
       "\n",
       "    .dataframe thead th {\n",
       "        text-align: right;\n",
       "    }\n",
       "</style>\n",
       "<table border=\"1\" class=\"dataframe\">\n",
       "  <thead>\n",
       "    <tr style=\"text-align: right;\">\n",
       "      <th></th>\n",
       "      <th>GI Date</th>\n",
       "      <th>Material</th>\n",
       "      <th>Req. Delivery Dt/ESD</th>\n",
       "      <th>Ship To</th>\n",
       "      <th>Customer</th>\n",
       "      <th>NW (Ton)</th>\n",
       "      <th>Billing number</th>\n",
       "      <th>Value (IDR)</th>\n",
       "    </tr>\n",
       "  </thead>\n",
       "  <tbody>\n",
       "    <tr>\n",
       "      <th>0</th>\n",
       "      <td>2008-01-02</td>\n",
       "      <td>69907062</td>\n",
       "      <td>02.01.2008</td>\n",
       "      <td>2029773</td>\n",
       "      <td>2027133</td>\n",
       "      <td>0.80000</td>\n",
       "      <td>1730002294</td>\n",
       "      <td>0.0</td>\n",
       "    </tr>\n",
       "    <tr>\n",
       "      <th>1</th>\n",
       "      <td>2008-01-02</td>\n",
       "      <td>69906182</td>\n",
       "      <td>02.01.2008</td>\n",
       "      <td>2029773</td>\n",
       "      <td>2027133</td>\n",
       "      <td>0.38640</td>\n",
       "      <td>1730002295</td>\n",
       "      <td>0.0</td>\n",
       "    </tr>\n",
       "    <tr>\n",
       "      <th>2</th>\n",
       "      <td>2008-01-02</td>\n",
       "      <td>69906662</td>\n",
       "      <td>02.01.2008</td>\n",
       "      <td>1000991</td>\n",
       "      <td>1000991</td>\n",
       "      <td>0.09005</td>\n",
       "      <td>2440004658</td>\n",
       "      <td>1064700.0</td>\n",
       "    </tr>\n",
       "    <tr>\n",
       "      <th>3</th>\n",
       "      <td>2008-01-02</td>\n",
       "      <td>69906431</td>\n",
       "      <td>02.01.2008</td>\n",
       "      <td>1000991</td>\n",
       "      <td>1000991</td>\n",
       "      <td>0.25135</td>\n",
       "      <td>2440004658</td>\n",
       "      <td>3648250.0</td>\n",
       "    </tr>\n",
       "    <tr>\n",
       "      <th>4</th>\n",
       "      <td>2008-01-02</td>\n",
       "      <td>69906182</td>\n",
       "      <td>02.01.2008</td>\n",
       "      <td>2029773</td>\n",
       "      <td>2027133</td>\n",
       "      <td>0.10080</td>\n",
       "      <td>1730002294</td>\n",
       "      <td>0.0</td>\n",
       "    </tr>\n",
       "  </tbody>\n",
       "</table>\n",
       "</div>"
      ],
      "text/plain": [
       "     GI Date  Material Req. Delivery Dt/ESD  Ship To  Customer  NW (Ton)  \\\n",
       "0 2008-01-02  69907062           02.01.2008  2029773   2027133   0.80000   \n",
       "1 2008-01-02  69906182           02.01.2008  2029773   2027133   0.38640   \n",
       "2 2008-01-02  69906662           02.01.2008  1000991   1000991   0.09005   \n",
       "3 2008-01-02  69906431           02.01.2008  1000991   1000991   0.25135   \n",
       "4 2008-01-02  69906182           02.01.2008  2029773   2027133   0.10080   \n",
       "\n",
       "  Billing number  Value (IDR)  \n",
       "0     1730002294          0.0  \n",
       "1     1730002295          0.0  \n",
       "2     2440004658    1064700.0  \n",
       "3     2440004658    3648250.0  \n",
       "4     1730002294          0.0  "
      ]
     },
     "execution_count": 150,
     "metadata": {},
     "output_type": "execute_result"
    }
   ],
   "source": [
    "dfOur2.head()"
   ]
  },
  {
   "cell_type": "markdown",
   "metadata": {},
   "source": [
    "## User Data Engineering"
   ]
  },
  {
   "cell_type": "code",
   "execution_count": 151,
   "metadata": {
    "scrolled": true
   },
   "outputs": [
    {
     "data": {
      "text/plain": [
       "Index(['Periods', 'S+R', 'Material', 'CHA', 'CHANNEL', 'RETAIL/AFH', 'STORE',\n",
       "       'Customer', 'Cust Name', 'NW (Ton)', 'Value (IDR)', 'Value (USD)',\n",
       "       'Ship To', 'Ship To Name', 'Qty (Karton)', 'Sales Person', 'SO No',\n",
       "       'GI Date', 'RDD', 'B_ArtCode', 'B_Carton Code', 'B_Material Text',\n",
       "       'B_Brand', 'B_Brand-2', 'B_Category', 'B_Category-2', 'B_Category-3',\n",
       "       'B_StatusSKU', 'B_Mill', 'B_Zone', 'B_Zone-2', 'B_Zone-3', 'B_Town',\n",
       "       'D_NOND', 'B_Week', 'B_Week Rdd'],\n",
       "      dtype='object')"
      ]
     },
     "execution_count": 151,
     "metadata": {},
     "output_type": "execute_result"
    }
   ],
   "source": [
    "dfUser.columns"
   ]
  },
  {
   "cell_type": "code",
   "execution_count": 152,
   "metadata": {},
   "outputs": [],
   "source": [
    "#Take features that we need\n",
    "dfUser2 = dfUser[['S+R','GI Date', 'Material', 'Ship To', 'Customer','NW (Ton)', 'Value (IDR)','Sales Person', 'SO No']]"
   ]
  },
  {
   "cell_type": "code",
   "execution_count": 153,
   "metadata": {
    "scrolled": false
   },
   "outputs": [
    {
     "data": {
      "text/html": [
       "<div>\n",
       "<style scoped>\n",
       "    .dataframe tbody tr th:only-of-type {\n",
       "        vertical-align: middle;\n",
       "    }\n",
       "\n",
       "    .dataframe tbody tr th {\n",
       "        vertical-align: top;\n",
       "    }\n",
       "\n",
       "    .dataframe thead th {\n",
       "        text-align: right;\n",
       "    }\n",
       "</style>\n",
       "<table border=\"1\" class=\"dataframe\">\n",
       "  <thead>\n",
       "    <tr style=\"text-align: right;\">\n",
       "      <th></th>\n",
       "      <th>S+R</th>\n",
       "      <th>GI Date</th>\n",
       "      <th>Material</th>\n",
       "      <th>Ship To</th>\n",
       "      <th>Customer</th>\n",
       "      <th>NW (Ton)</th>\n",
       "      <th>Value (IDR)</th>\n",
       "      <th>Sales Person</th>\n",
       "      <th>SO No</th>\n",
       "    </tr>\n",
       "  </thead>\n",
       "  <tbody>\n",
       "    <tr>\n",
       "      <th>0</th>\n",
       "      <td>freegood</td>\n",
       "      <td>11.01.2018</td>\n",
       "      <td>69917620</td>\n",
       "      <td>1001551</td>\n",
       "      <td>1001551</td>\n",
       "      <td>0.035784</td>\n",
       "      <td>0.0</td>\n",
       "      <td>NaN</td>\n",
       "      <td>1029200331</td>\n",
       "    </tr>\n",
       "    <tr>\n",
       "      <th>1</th>\n",
       "      <td>freegood</td>\n",
       "      <td>18.01.2018</td>\n",
       "      <td>69916821</td>\n",
       "      <td>1001551</td>\n",
       "      <td>1001551</td>\n",
       "      <td>0.006400</td>\n",
       "      <td>0.0</td>\n",
       "      <td>NaN</td>\n",
       "      <td>1029200334</td>\n",
       "    </tr>\n",
       "    <tr>\n",
       "      <th>2</th>\n",
       "      <td>freegood</td>\n",
       "      <td>19.01.2018</td>\n",
       "      <td>69916820</td>\n",
       "      <td>1001551</td>\n",
       "      <td>1001551</td>\n",
       "      <td>0.012800</td>\n",
       "      <td>0.0</td>\n",
       "      <td>NaN</td>\n",
       "      <td>1029200335</td>\n",
       "    </tr>\n",
       "    <tr>\n",
       "      <th>3</th>\n",
       "      <td>freegood</td>\n",
       "      <td>23.01.2018</td>\n",
       "      <td>69916821</td>\n",
       "      <td>1001551</td>\n",
       "      <td>1001551</td>\n",
       "      <td>0.019200</td>\n",
       "      <td>0.0</td>\n",
       "      <td>NaN</td>\n",
       "      <td>1029200336</td>\n",
       "    </tr>\n",
       "    <tr>\n",
       "      <th>4</th>\n",
       "      <td>freegood</td>\n",
       "      <td>24.01.2018</td>\n",
       "      <td>69916582</td>\n",
       "      <td>1001551</td>\n",
       "      <td>1001551</td>\n",
       "      <td>0.012659</td>\n",
       "      <td>0.0</td>\n",
       "      <td>NaN</td>\n",
       "      <td>1029200332</td>\n",
       "    </tr>\n",
       "  </tbody>\n",
       "</table>\n",
       "</div>"
      ],
      "text/plain": [
       "        S+R     GI Date  Material  Ship To  Customer  NW (Ton)  Value (IDR)  \\\n",
       "0  freegood  11.01.2018  69917620  1001551   1001551  0.035784          0.0   \n",
       "1  freegood  18.01.2018  69916821  1001551   1001551  0.006400          0.0   \n",
       "2  freegood  19.01.2018  69916820  1001551   1001551  0.012800          0.0   \n",
       "3  freegood  23.01.2018  69916821  1001551   1001551  0.019200          0.0   \n",
       "4  freegood  24.01.2018  69916582  1001551   1001551  0.012659          0.0   \n",
       "\n",
       "  Sales Person       SO No  \n",
       "0          NaN  1029200331  \n",
       "1          NaN  1029200334  \n",
       "2          NaN  1029200335  \n",
       "3          NaN  1029200336  \n",
       "4          NaN  1029200332  "
      ]
     },
     "execution_count": 153,
     "metadata": {},
     "output_type": "execute_result"
    }
   ],
   "source": [
    "dfUser2.head()"
   ]
  },
  {
   "cell_type": "code",
   "execution_count": 154,
   "metadata": {},
   "outputs": [
    {
     "name": "stderr",
     "output_type": "stream",
     "text": [
      "C:\\Users\\01135710\\AppData\\Local\\Continuum\\anaconda3\\lib\\site-packages\\ipykernel_launcher.py:2: SettingWithCopyWarning: \n",
      "A value is trying to be set on a copy of a slice from a DataFrame.\n",
      "Try using .loc[row_indexer,col_indexer] = value instead\n",
      "\n",
      "See the caveats in the documentation: http://pandas.pydata.org/pandas-docs/stable/indexing.html#indexing-view-versus-copy\n",
      "  \n"
     ]
    }
   ],
   "source": [
    "#Change data type of GI Date to Date\n",
    "dfUser2['GI Date'] = pd.to_datetime(dfUser2['GI Date'],dayfirst=True) "
   ]
  },
  {
   "cell_type": "code",
   "execution_count": 155,
   "metadata": {},
   "outputs": [],
   "source": [
    "#Take out FENNY RIANY LALENO value of Sales Person\n",
    "dfUser3 = dfUser2[dfUser2['Sales Person'] != 'FENNY RIANY LALENO']"
   ]
  },
  {
   "cell_type": "code",
   "execution_count": 156,
   "metadata": {},
   "outputs": [
    {
     "data": {
      "text/html": [
       "<div>\n",
       "<style scoped>\n",
       "    .dataframe tbody tr th:only-of-type {\n",
       "        vertical-align: middle;\n",
       "    }\n",
       "\n",
       "    .dataframe tbody tr th {\n",
       "        vertical-align: top;\n",
       "    }\n",
       "\n",
       "    .dataframe thead th {\n",
       "        text-align: right;\n",
       "    }\n",
       "</style>\n",
       "<table border=\"1\" class=\"dataframe\">\n",
       "  <thead>\n",
       "    <tr style=\"text-align: right;\">\n",
       "      <th></th>\n",
       "      <th>S+R</th>\n",
       "      <th>GI Date</th>\n",
       "      <th>Material</th>\n",
       "      <th>Ship To</th>\n",
       "      <th>Customer</th>\n",
       "      <th>NW (Ton)</th>\n",
       "      <th>Value (IDR)</th>\n",
       "      <th>Sales Person</th>\n",
       "      <th>SO No</th>\n",
       "    </tr>\n",
       "  </thead>\n",
       "  <tbody>\n",
       "    <tr>\n",
       "      <th>0</th>\n",
       "      <td>freegood</td>\n",
       "      <td>2018-01-11</td>\n",
       "      <td>69917620</td>\n",
       "      <td>1001551</td>\n",
       "      <td>1001551</td>\n",
       "      <td>0.035784</td>\n",
       "      <td>0.0</td>\n",
       "      <td>NaN</td>\n",
       "      <td>1029200331</td>\n",
       "    </tr>\n",
       "    <tr>\n",
       "      <th>1</th>\n",
       "      <td>freegood</td>\n",
       "      <td>2018-01-18</td>\n",
       "      <td>69916821</td>\n",
       "      <td>1001551</td>\n",
       "      <td>1001551</td>\n",
       "      <td>0.006400</td>\n",
       "      <td>0.0</td>\n",
       "      <td>NaN</td>\n",
       "      <td>1029200334</td>\n",
       "    </tr>\n",
       "    <tr>\n",
       "      <th>2</th>\n",
       "      <td>freegood</td>\n",
       "      <td>2018-01-19</td>\n",
       "      <td>69916820</td>\n",
       "      <td>1001551</td>\n",
       "      <td>1001551</td>\n",
       "      <td>0.012800</td>\n",
       "      <td>0.0</td>\n",
       "      <td>NaN</td>\n",
       "      <td>1029200335</td>\n",
       "    </tr>\n",
       "    <tr>\n",
       "      <th>3</th>\n",
       "      <td>freegood</td>\n",
       "      <td>2018-01-23</td>\n",
       "      <td>69916821</td>\n",
       "      <td>1001551</td>\n",
       "      <td>1001551</td>\n",
       "      <td>0.019200</td>\n",
       "      <td>0.0</td>\n",
       "      <td>NaN</td>\n",
       "      <td>1029200336</td>\n",
       "    </tr>\n",
       "    <tr>\n",
       "      <th>4</th>\n",
       "      <td>freegood</td>\n",
       "      <td>2018-01-24</td>\n",
       "      <td>69916582</td>\n",
       "      <td>1001551</td>\n",
       "      <td>1001551</td>\n",
       "      <td>0.012659</td>\n",
       "      <td>0.0</td>\n",
       "      <td>NaN</td>\n",
       "      <td>1029200332</td>\n",
       "    </tr>\n",
       "  </tbody>\n",
       "</table>\n",
       "</div>"
      ],
      "text/plain": [
       "        S+R    GI Date  Material  Ship To  Customer  NW (Ton)  Value (IDR)  \\\n",
       "0  freegood 2018-01-11  69917620  1001551   1001551  0.035784          0.0   \n",
       "1  freegood 2018-01-18  69916821  1001551   1001551  0.006400          0.0   \n",
       "2  freegood 2018-01-19  69916820  1001551   1001551  0.012800          0.0   \n",
       "3  freegood 2018-01-23  69916821  1001551   1001551  0.019200          0.0   \n",
       "4  freegood 2018-01-24  69916582  1001551   1001551  0.012659          0.0   \n",
       "\n",
       "  Sales Person       SO No  \n",
       "0          NaN  1029200331  \n",
       "1          NaN  1029200334  \n",
       "2          NaN  1029200335  \n",
       "3          NaN  1029200336  \n",
       "4          NaN  1029200332  "
      ]
     },
     "execution_count": 156,
     "metadata": {},
     "output_type": "execute_result"
    }
   ],
   "source": [
    "dfUser3.head()"
   ]
  },
  {
   "cell_type": "markdown",
   "metadata": {},
   "source": [
    "# Filter Data"
   ]
  },
  {
   "cell_type": "code",
   "execution_count": 157,
   "metadata": {},
   "outputs": [],
   "source": [
    "#Function filter data per day\n",
    "def excludeDataDay(data,c):\n",
    "    data2 = data[(data['NW (Ton)'] > 0) & (data['Value (IDR)'] != 0) ]  #Exclude Free Goods\n",
    "    data3 = data2[data2['Customer'] != 2064741]     #Exclude Paseo Lady\n",
    "    data4 = data3[data3['GI Date'] == c]\n",
    "    print(\"Data Dimension \", data4.shape)\n",
    "    print(\"Sum Value \", sum(data4['Value (IDR)']))\n",
    "    print(\"Sum Weight \", sum(data4['NW (Ton)']))\n",
    "    return data4"
   ]
  },
  {
   "cell_type": "code",
   "execution_count": 158,
   "metadata": {},
   "outputs": [],
   "source": [
    "#Function filter Interval data\n",
    "def excludeIntervalData(data,c):\n",
    "    data2 = data[(data['NW (Ton)'] > 0) & (data['Value (IDR)'] != 0) ]  #Exclude Free Goods\n",
    "    data3 = data2[data2['Customer'] != 2064741]     #Exclude Paseo Lady\n",
    "    data4 = data3[c]\n",
    "    print(\"Data Dimension \", data4.shape)\n",
    "    print(\"Sum Value \", sum(data4['Value (IDR)']))\n",
    "    print(\"Sum Weight \", sum(data4['NW (Ton)']))\n",
    "    return data4"
   ]
  },
  {
   "cell_type": "markdown",
   "metadata": {},
   "source": [
    "# Find Diff "
   ]
  },
  {
   "cell_type": "code",
   "execution_count": 180,
   "metadata": {
    "scrolled": false
   },
   "outputs": [
    {
     "name": "stdout",
     "output_type": "stream",
     "text": [
      "dfOur Desc 2018 :\n"
     ]
    },
    {
     "name": "stderr",
     "output_type": "stream",
     "text": [
      "C:\\Users\\01135710\\AppData\\Local\\Continuum\\anaconda3\\lib\\site-packages\\ipykernel_launcher.py:6: UserWarning: Boolean Series key will be reindexed to match DataFrame index.\n",
      "  \n"
     ]
    },
    {
     "name": "stdout",
     "output_type": "stream",
     "text": [
      "Data Dimension  (20941, 8)\n",
      "Sum Value  284811832517.0\n",
      "Sum Weight  11274.550959999986\n",
      "\n",
      "dfUser Desc 2018 :\n",
      "Data Dimension  (24349, 9)\n",
      "Sum Value  283296601243.0\n",
      "Sum Weight  11220.03393600017\n"
     ]
    }
   ],
   "source": [
    "#2018 Desember Data\n",
    "c = (dfOur2['GI Date']>='2018-12-01') & (dfOur2['GI Date'] <= '2018-12-31')\n",
    "d = (dfUser3['GI Date']>='2018-12-01') & (dfUser3['GI Date'] <= '2018-12-31')\n",
    "print(\"dfOur Desc 2018 :\")\n",
    "dfOurDes18 = excludeIntervalData(dfOur2,c)\n",
    "print()\n",
    "print(\"dfUser Desc 2018 :\")\n",
    "dfUserDes18= excludeIntervalData(dfUser3,d)"
   ]
  },
  {
   "cell_type": "code",
   "execution_count": 181,
   "metadata": {},
   "outputs": [],
   "source": [
    "dfOurDes18.to_excel('ourDataDecember2018(Diff).xlsx')\n",
    "dfUserDes18.to_excel('userDataDecember2018(Diff).xlsx')"
   ]
  },
  {
   "cell_type": "code",
   "execution_count": 182,
   "metadata": {},
   "outputs": [
    {
     "name": "stdout",
     "output_type": "stream",
     "text": [
      "dfOur Desc 1-7 2018 :\n"
     ]
    },
    {
     "name": "stderr",
     "output_type": "stream",
     "text": [
      "C:\\Users\\01135710\\AppData\\Local\\Continuum\\anaconda3\\lib\\site-packages\\ipykernel_launcher.py:6: UserWarning: Boolean Series key will be reindexed to match DataFrame index.\n",
      "  \n"
     ]
    },
    {
     "name": "stdout",
     "output_type": "stream",
     "text": [
      "Data Dimension  (5605, 8)\n",
      "Sum Value  62902131175.0\n",
      "Sum Weight  2450.580776999993\n",
      "\n",
      "dfUser Desc 1-7 2018 :\n",
      "Data Dimension  (6101, 9)\n",
      "Sum Value  62131996130.0\n",
      "Sum Weight  2425.9697139999853\n"
     ]
    }
   ],
   "source": [
    "#2018, 01 - 07 Desember Data\n",
    "c = (dfOur2['GI Date']>='2018-12-01') & (dfOur2['GI Date'] <= '2018-12-07')\n",
    "d = (dfUser3['GI Date']>='2018-12-01') & (dfUser3['GI Date'] <= '2018-12-07')\n",
    "print(\"dfOur Desc 1-7 2018 :\")\n",
    "dfOurDes1817 = excludeIntervalData(dfOur2,c)\n",
    "print()\n",
    "print(\"dfUser Desc 1-7 2018 :\")\n",
    "dfUserDes1817= excludeIntervalData(dfUser3,d)"
   ]
  },
  {
   "cell_type": "code",
   "execution_count": 183,
   "metadata": {},
   "outputs": [],
   "source": [
    "dfOurDes1817.to_excel('ourDataDecemberWeekOne2018(Diff).xlsx')\n",
    "dfUserDes1817.to_excel('userDataDecemberWeekOne2018(Diff).xlsx')"
   ]
  },
  {
   "cell_type": "code",
   "execution_count": 184,
   "metadata": {},
   "outputs": [
    {
     "name": "stdout",
     "output_type": "stream",
     "text": [
      "dfOur Desc 1 2018 :\n",
      "Data Dimension  (297, 8)\n",
      "Sum Value  3188018157.0\n",
      "Sum Weight  124.903395\n",
      "\n",
      "dfUser Desc 1 2018 :\n",
      "Data Dimension  (334, 9)\n",
      "Sum Value  3188018157.0\n",
      "Sum Weight  124.90339500000002\n"
     ]
    }
   ],
   "source": [
    "#2018, 1 Desember Data\n",
    "c = '2018-12-01'\n",
    "d = '2018-12-01'\n",
    "print(\"dfOur Desc 1 2018 :\")\n",
    "dfOurDes181 = excludeDataDay(dfOur2,c)\n",
    "print()\n",
    "print(\"dfUser Desc 1 2018 :\")\n",
    "dfUserDes181= excludeDataDay(dfUser3,d)"
   ]
  },
  {
   "cell_type": "code",
   "execution_count": 185,
   "metadata": {},
   "outputs": [],
   "source": [
    "dfOurDes181.to_excel('ourDataDecemberDayOne2018(Same).xlsx')\n",
    "dfUserDes181.to_excel('userDataDecemberDayOne2018(Same).xlsx')"
   ]
  },
  {
   "cell_type": "code",
   "execution_count": 171,
   "metadata": {},
   "outputs": [
    {
     "name": "stdout",
     "output_type": "stream",
     "text": [
      "dfOur Desc 2 2018 :\n",
      "Data Dimension  (39, 8)\n",
      "Sum Value  585204637.0\n",
      "Sum Weight  24.60126500000001\n",
      "\n",
      "dfUser Desc 2 2018 :\n",
      "Data Dimension  (40, 9)\n",
      "Sum Value  585204637.0\n",
      "Sum Weight  24.601265000000005\n"
     ]
    }
   ],
   "source": [
    "#2018, 2 Desember Data\n",
    "c = '2018-12-02'\n",
    "d = '2018-12-02'\n",
    "print(\"dfOur Desc 2 2018 :\")\n",
    "dfOurDes18 = excludeDataDay(dfOur2,c)\n",
    "print()\n",
    "print(\"dfUser Desc 2 2018 :\")\n",
    "dfUserDes18= excludeDataDay(dfUser3,d)"
   ]
  },
  {
   "cell_type": "code",
   "execution_count": 186,
   "metadata": {},
   "outputs": [
    {
     "name": "stdout",
     "output_type": "stream",
     "text": [
      "dfOur Desc 3 2018 :\n",
      "Data Dimension  (587, 8)\n",
      "Sum Value  6984620729.0\n",
      "Sum Weight  276.33582300000006\n",
      "\n",
      "dfUser Desc 3 2018 :\n",
      "Data Dimension  (675, 9)\n",
      "Sum Value  6984152549.0\n",
      "Sum Weight  276.32655699999975\n"
     ]
    }
   ],
   "source": [
    "#2018, 3 Desember Data\n",
    "c = '2018-12-03'\n",
    "d = '2018-12-03'\n",
    "print(\"dfOur Desc 3 2018 :\")\n",
    "dfOurDes183 = excludeDataDay(dfOur2,c)\n",
    "print()\n",
    "print(\"dfUser Desc 3 2018 :\")\n",
    "dfUserDes183= excludeDataDay(dfUser3,d)"
   ]
  },
  {
   "cell_type": "code",
   "execution_count": 187,
   "metadata": {},
   "outputs": [],
   "source": [
    "dfOurDes183.to_excel('ourDataDecemberDayThree2018(Same).xlsx')\n",
    "dfUserDes183.to_excel('userDataDecemberDayThree2018(Same).xlsx')"
   ]
  },
  {
   "cell_type": "code",
   "execution_count": 174,
   "metadata": {},
   "outputs": [
    {
     "name": "stdout",
     "output_type": "stream",
     "text": [
      "dfOur Desc 4 2018 :\n",
      "Data Dimension  (1078, 8)\n",
      "Sum Value  11015551392.0\n",
      "Sum Weight  413.0799239999999\n",
      "\n",
      "dfUser Desc 4 2018 :\n",
      "Data Dimension  (1167, 9)\n",
      "Sum Value  10890335748.0\n",
      "Sum Weight  409.5943920000001\n"
     ]
    }
   ],
   "source": [
    "#2018, 4 Desember Data\n",
    "c = '2018-12-04'\n",
    "d = '2018-12-04'\n",
    "print(\"dfOur Desc 4 2018 :\")\n",
    "dfOurDes18 = excludeDataDay(dfOur2,c)\n",
    "print()\n",
    "print(\"dfUser Desc 4 2018 :\")\n",
    "dfUserDes18= excludeDataDay(dfUser3,d)"
   ]
  },
  {
   "cell_type": "code",
   "execution_count": 175,
   "metadata": {},
   "outputs": [
    {
     "name": "stdout",
     "output_type": "stream",
     "text": [
      "dfOur Desc 5 2018 :\n",
      "Data Dimension  (1003, 8)\n",
      "Sum Value  14069250801.0\n",
      "Sum Weight  557.5670699999998\n",
      "\n",
      "dfUser Desc 5 2018 :\n",
      "Data Dimension  (1135, 9)\n",
      "Sum Value  13899128759.0\n",
      "Sum Weight  551.787334\n"
     ]
    }
   ],
   "source": [
    "#2018, 5 Desember Data\n",
    "c = '2018-12-05'\n",
    "d = '2018-12-05'\n",
    "print(\"dfOur Desc 5 2018 :\")\n",
    "dfOurDes18 = excludeDataDay(dfOur2,c)\n",
    "print()\n",
    "print(\"dfUser Desc 5 2018 :\")\n",
    "dfUserDes18= excludeDataDay(dfUser3,d)"
   ]
  }
 ],
 "metadata": {
  "kernelspec": {
   "display_name": "Python 3",
   "language": "python",
   "name": "python3"
  },
  "language_info": {
   "codemirror_mode": {
    "name": "ipython",
    "version": 3
   },
   "file_extension": ".py",
   "mimetype": "text/x-python",
   "name": "python",
   "nbconvert_exporter": "python",
   "pygments_lexer": "ipython3",
   "version": "3.7.1"
  }
 },
 "nbformat": 4,
 "nbformat_minor": 2
}

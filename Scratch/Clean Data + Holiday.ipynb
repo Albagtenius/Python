{
 "cells": [
  {
   "cell_type": "code",
   "execution_count": 1,
   "metadata": {},
   "outputs": [],
   "source": [
    "import pandas as pd\n",
    "import numpy as np"
   ]
  },
  {
   "cell_type": "code",
   "execution_count": 2,
   "metadata": {},
   "outputs": [],
   "source": [
    "#OurData\n",
    "dfOur = pd.read_csv(\"SRQLIK_2008-2019_Data_Kita.csv\")\n",
    "\n",
    "#Billing Number Initial FENNY data/Paseo Lady\n",
    "dfFenny = pd.read_excel(\"Tissue Direct 2008-2019.xlsx\")"
   ]
  },
  {
   "cell_type": "markdown",
   "metadata": {},
   "source": [
    "# 1. Take out billing number of dfFenny in ourData"
   ]
  },
  {
   "cell_type": "code",
   "execution_count": 3,
   "metadata": {},
   "outputs": [],
   "source": [
    "#Before we do filtering, we have take out all of Billing number of dfFenny\n",
    "\n",
    "#Change data type of Billing number of dfOur to object\n",
    "dfOur['Billing number'] = dfOur['Billing number'].astype(str)"
   ]
  },
  {
   "cell_type": "code",
   "execution_count": 4,
   "metadata": {},
   "outputs": [],
   "source": [
    "#First before do anything, we he to have take out billing number which there are in dfFenny \n",
    "dfOur2 = dfOur.merge(dfFenny, indicator='i', how='outer').query('i == \"left_only\"').drop('i', 1)\n",
    "#dfOur2 = dfOur.loc[pd.merge(dfOur, dfFenny, on=['Billing number'], how='left', indicator=True)['_merge'] == 'left_only']"
   ]
  },
  {
   "cell_type": "markdown",
   "metadata": {},
   "source": [
    "# 2. Take out all the cancelled and minus value"
   ]
  },
  {
   "cell_type": "code",
   "execution_count": 5,
   "metadata": {},
   "outputs": [],
   "source": [
    "#Take out all the cancelled and minus value\n",
    "dfOur2['Cancelled'] = dfOur2['Cancelled'].fillna(\"No\")\n",
    "dfOur2 = dfOur2[dfOur2['Cancelled'] == 'No']\n",
    "dfOur2 = dfOur2[dfOur2['Inv. Weight (MT)'] > 0]"
   ]
  },
  {
   "cell_type": "code",
   "execution_count": 6,
   "metadata": {},
   "outputs": [],
   "source": [
    "dfOur2 = dfOur2[dfOur2['Act.goods issue date'] != '00000000'] "
   ]
  },
  {
   "cell_type": "markdown",
   "metadata": {},
   "source": [
    "# 3. Take features dfOur which has same definiton with dfUser"
   ]
  },
  {
   "cell_type": "code",
   "execution_count": 7,
   "metadata": {},
   "outputs": [],
   "source": [
    "#One of the steps to compare our data and user data is Value (IDR), so we need add new Value (IDR) column, beacuse we haven't\n",
    "#before\n",
    "dfOur2['Value (IDR)']=dfOur2['Inv Sell Val Doc Cur']-dfOur2['Disc. Amount(Doc. Curr.)']"
   ]
  },
  {
   "cell_type": "code",
   "execution_count": 8,
   "metadata": {},
   "outputs": [],
   "source": [
    "#Take features that we need\n",
    "dfOur2 = dfOur2[['Act.goods issue date','Material ID','Req. Delivery Dt/ESD','Ship to Party','Sold to Party','Inv. Weight (MT)',\n",
    "       'Sales document','Value (IDR)','Mill']]"
   ]
  },
  {
   "cell_type": "code",
   "execution_count": 9,
   "metadata": {},
   "outputs": [],
   "source": [
    "#Transform Ton to Kg\n",
    "dfOur2['Inv. Weight (MT)'] = dfOur2['Inv. Weight (MT)']*1000"
   ]
  },
  {
   "cell_type": "code",
   "execution_count": 10,
   "metadata": {},
   "outputs": [],
   "source": [
    "#Change of each features name \n",
    "dfOur2.columns = ['GI_Date', 'Material','Req. Delivery Dt/ESD','Ship To', 'Customer','NW(Kg)','SO No','Value (IDR)','Mill']"
   ]
  },
  {
   "cell_type": "code",
   "execution_count": 11,
   "metadata": {},
   "outputs": [],
   "source": [
    "#Change data type of GI Date to Date\n",
    "dfOur2['GI_Date'] = pd.to_datetime(dfOur2['GI_Date'],dayfirst=True) "
   ]
  },
  {
   "cell_type": "markdown",
   "metadata": {},
   "source": [
    "# 4.Filter Data"
   ]
  },
  {
   "cell_type": "code",
   "execution_count": 12,
   "metadata": {},
   "outputs": [],
   "source": [
    "#Function filter Interval data\n",
    "def excludeIntervalData(data,c):\n",
    "    data2 = data[(data['NW(Kg)'] > 0) & (data['Value (IDR)'] != 0) ]  #Exclude Free Goods\n",
    "    data3 = data2[data2['Customer'] != 2064741]     #Exclude Paseo Lady\n",
    "    data4 = data3[c]\n",
    "    print(\"Data Dimension \", data4.shape)\n",
    "    print(\"Sum Value \", sum(data4['Value (IDR)']))\n",
    "    print(\"Sum Weight \", sum(data4['NW(Kg)']))\n",
    "    return data4"
   ]
  },
  {
   "cell_type": "markdown",
   "metadata": {},
   "source": [
    "###############################################################################################################################"
   ]
  },
  {
   "cell_type": "markdown",
   "metadata": {},
   "source": [
    "# 2018"
   ]
  },
  {
   "cell_type": "code",
   "execution_count": 13,
   "metadata": {},
   "outputs": [
    {
     "name": "stderr",
     "output_type": "stream",
     "text": [
      "C:\\Users\\01135710\\AppData\\Local\\Continuum\\anaconda3\\lib\\site-packages\\ipykernel_launcher.py:5: UserWarning: Boolean Series key will be reindexed to match DataFrame index.\n",
      "  \"\"\"\n"
     ]
    },
    {
     "name": "stdout",
     "output_type": "stream",
     "text": [
      "Data Dimension  (290094, 9)\n",
      "Sum Value  3557760586653.0\n",
      "Sum Weight  147862570.0940049\n"
     ]
    }
   ],
   "source": [
    "#2018 Data\n",
    "c = (dfOur2['GI_Date']>='2018-01-02') & (dfOur2['GI_Date'] <= '2018-12-31')\n",
    "#d = (dfUser3['GI Date']>='2018-01-01') & (dfUser3['GI Date'] <= '2018-12-31')\n",
    "\n",
    "dfOur18 = excludeIntervalData(dfOur2,c)"
   ]
  },
  {
   "cell_type": "code",
   "execution_count": 14,
   "metadata": {},
   "outputs": [],
   "source": [
    "a = dfOur18[[\"Material\",\"SO No\",\"Value (IDR)\",\"GI_Date\", \"NW(Kg)\"]]\n",
    "data18 = pd.pivot_table(a, values=['Value (IDR)','NW(Kg)'], index=['Material','SO No','GI_Date'], aggfunc=np.sum).reset_index()"
   ]
  },
  {
   "cell_type": "code",
   "execution_count": 15,
   "metadata": {},
   "outputs": [
    {
     "data": {
      "text/plain": [
       "(277972, 5)"
      ]
     },
     "execution_count": 15,
     "metadata": {},
     "output_type": "execute_result"
    }
   ],
   "source": [
    "data18.shape"
   ]
  },
  {
   "cell_type": "markdown",
   "metadata": {},
   "source": [
    "# 2017"
   ]
  },
  {
   "cell_type": "code",
   "execution_count": 16,
   "metadata": {
    "scrolled": true
   },
   "outputs": [
    {
     "name": "stdout",
     "output_type": "stream",
     "text": [
      "Data Dimension  (274222, 9)\n",
      "Sum Value  3007219132785.0\n",
      "Sum Weight  133392002.91398036\n"
     ]
    },
    {
     "name": "stderr",
     "output_type": "stream",
     "text": [
      "C:\\Users\\01135710\\AppData\\Local\\Continuum\\anaconda3\\lib\\site-packages\\ipykernel_launcher.py:5: UserWarning: Boolean Series key will be reindexed to match DataFrame index.\n",
      "  \"\"\"\n"
     ]
    }
   ],
   "source": [
    "#2017 Data\n",
    "c = (dfOur2['GI_Date']>='2017-01-01') & (dfOur2['GI_Date'] <= '2017-12-31')\n",
    "#d = (dfUser3['GI Date']>='2018-01-01') & (dfUser3['GI Date'] <= '2018-12-31')\n",
    "\n",
    "dfOur17 = excludeIntervalData(dfOur2,c)"
   ]
  },
  {
   "cell_type": "code",
   "execution_count": 17,
   "metadata": {},
   "outputs": [],
   "source": [
    "a = dfOur17[[\"Material\",\"SO No\",\"Value (IDR)\",\"GI_Date\", \"NW(Kg)\"]]\n",
    "data17 = pd.pivot_table(a, values=['Value (IDR)','NW(Kg)'], index=['Material','SO No','GI_Date'], aggfunc=np.sum).reset_index()"
   ]
  },
  {
   "cell_type": "code",
   "execution_count": 18,
   "metadata": {},
   "outputs": [
    {
     "data": {
      "text/plain": [
       "(262381, 5)"
      ]
     },
     "execution_count": 18,
     "metadata": {},
     "output_type": "execute_result"
    }
   ],
   "source": [
    "data17.shape"
   ]
  },
  {
   "cell_type": "markdown",
   "metadata": {},
   "source": [
    "# 2016"
   ]
  },
  {
   "cell_type": "code",
   "execution_count": 19,
   "metadata": {},
   "outputs": [
    {
     "name": "stderr",
     "output_type": "stream",
     "text": [
      "C:\\Users\\01135710\\AppData\\Local\\Continuum\\anaconda3\\lib\\site-packages\\ipykernel_launcher.py:5: UserWarning: Boolean Series key will be reindexed to match DataFrame index.\n",
      "  \"\"\"\n"
     ]
    },
    {
     "name": "stdout",
     "output_type": "stream",
     "text": [
      "Data Dimension  (268932, 9)\n",
      "Sum Value  2498375470521.0\n",
      "Sum Weight  108795796.68098637\n"
     ]
    }
   ],
   "source": [
    "#2016 Data\n",
    "c = (dfOur2['GI_Date']>='2016-01-01') & (dfOur2['GI_Date'] <= '2016-12-31')\n",
    "#d = (dfUser3['GI Date']>='2018-01-01') & (dfUser3['GI Date'] <= '2018-12-31')\n",
    "\n",
    "dfOur16 = excludeIntervalData(dfOur2,c)\n",
    "a = dfOur16[[\"Material\",\"SO No\",\"Value (IDR)\",\"GI_Date\", \"NW(Kg)\"]]\n",
    "data16 = pd.pivot_table(a, values=['Value (IDR)','NW(Kg)'], index=['Material','SO No','GI_Date'], aggfunc=np.sum).reset_index()"
   ]
  },
  {
   "cell_type": "code",
   "execution_count": 20,
   "metadata": {},
   "outputs": [
    {
     "data": {
      "text/plain": [
       "(255950, 5)"
      ]
     },
     "execution_count": 20,
     "metadata": {},
     "output_type": "execute_result"
    }
   ],
   "source": [
    "data16.shape"
   ]
  },
  {
   "cell_type": "markdown",
   "metadata": {},
   "source": [
    "# 2015"
   ]
  },
  {
   "cell_type": "code",
   "execution_count": 21,
   "metadata": {},
   "outputs": [
    {
     "name": "stderr",
     "output_type": "stream",
     "text": [
      "C:\\Users\\01135710\\AppData\\Local\\Continuum\\anaconda3\\lib\\site-packages\\ipykernel_launcher.py:5: UserWarning: Boolean Series key will be reindexed to match DataFrame index.\n",
      "  \"\"\"\n"
     ]
    },
    {
     "name": "stdout",
     "output_type": "stream",
     "text": [
      "Data Dimension  (232156, 9)\n",
      "Sum Value  1991508722838.0\n",
      "Sum Weight  86006773.88798635\n"
     ]
    }
   ],
   "source": [
    "#2015 Data\n",
    "c = (dfOur2['GI_Date']>='2015-01-01') & (dfOur2['GI_Date'] <= '2015-12-31')\n",
    "#d = (dfUser3['GI Date']>='2018-01-01') & (dfUser3['GI Date'] <= '2018-12-31')\n",
    "\n",
    "dfOur15 = excludeIntervalData(dfOur2,c)\n",
    "a = dfOur15[[\"Material\",\"SO No\",\"Value (IDR)\",\"GI_Date\", \"NW(Kg)\"]]\n",
    "data15 = pd.pivot_table(a, values=['Value (IDR)','NW(Kg)'], index=['Material','SO No','GI_Date'], aggfunc=np.sum).reset_index()"
   ]
  },
  {
   "cell_type": "code",
   "execution_count": 22,
   "metadata": {},
   "outputs": [
    {
     "data": {
      "text/plain": [
       "(222106, 5)"
      ]
     },
     "execution_count": 22,
     "metadata": {},
     "output_type": "execute_result"
    }
   ],
   "source": [
    "data15.shape"
   ]
  },
  {
   "cell_type": "markdown",
   "metadata": {},
   "source": [
    "###############################################################################################################################"
   ]
  },
  {
   "cell_type": "markdown",
   "metadata": {},
   "source": [
    "# 2015 - 2018"
   ]
  },
  {
   "cell_type": "code",
   "execution_count": 23,
   "metadata": {},
   "outputs": [],
   "source": [
    "#Public Holiday 2018\n",
    "publicHoliday2018 = ['01 Jan','16 Feb','17 Mar','30 Mar','14 Apr','01 May','10 May','29 May','01 Jun','11 Jun', '12 Jun',\n",
    "                    '13 Jun','14 Jun','15 Jun','16 Jun','18 Jun','19 Jun','20 Jun','27 Jun','17 Aug','22 Aug','11 Sep',\n",
    "                    '24 Dec','25 Dec']\n",
    "\n",
    "#Public Holiday 2017\n",
    "publicHoliday2017 = ['01 Jan','02 Jan','28 Jan','15 Feb','28 Mar','14 April','19 April','24 April','01 May','11 May',\n",
    "                    '25 May','01 Jun','23 Jun','24 Jun','25 Jun','26 Jun','27 Jun','28 Jun','29 Jun','30 Jun',\n",
    "                    '17 Aug','01 Sep','21 Sep','01 Dec','25 Dec','26 Dec']\n",
    "\n",
    "#Public Holiday 2016\n",
    "publicHoliday2016 = ['01 Jan','08 Feb','09 Mar','25 Mar','01 May','05 May','06 May','22 May','04 Jul','05 Jul','06 Jul',\n",
    "                    '07 Jul','08 Jul','17 Aug','12 Sep','02 Oct','12 Dec','25 Dec','26 Dec']\n",
    "\n",
    "\n",
    "#Public Holiday 2015\n",
    "publicHoliday2015 = ['01 Jan','03 Jan','19 Feb','21 Mar','03 Apr','01 May',\n",
    "                    '14 May','02 Jun','16 Jul','17 Jul','18 Jul','20 Jul',\n",
    "                    '21 Jul','21 Jul','17 Aug','24 Sep','14 Oct','24 Dec',\n",
    "                    '25 Dec']"
   ]
  },
  {
   "cell_type": "markdown",
   "metadata": {},
   "source": [
    "###############################################################################################################################"
   ]
  },
  {
   "cell_type": "code",
   "execution_count": 24,
   "metadata": {},
   "outputs": [],
   "source": [
    "#Def for add flag holidays includes public holidays and weekends\n",
    "def dateHoliday(data, publicHoliday):\n",
    "     data['GI_Date'] = pd.to_datetime(data['GI_Date'])\n",
    "     #For Public Holidays\n",
    "     holi1 = data['GI_Date'].dt.strftime('%d %b')\n",
    "     #For Weekends    \n",
    "     holi2 = data['GI_Date'].dt.strftime('%a')\n",
    "     temp1 = []\n",
    "     temp2 = []\n",
    "     \n",
    "      #Public Holidays\n",
    "     for i in holi1:\n",
    "         if i in publicHoliday:\n",
    "             temp1.append('True')\n",
    "         else:\n",
    "             temp1.append('False')\n",
    "     temp1 = pd.DataFrame(temp1,columns=['Holiday'])\n",
    "    \n",
    "      #Weekends\n",
    "     for i in holi2:\n",
    "         if i == 'Sun' or i == 'Sat':\n",
    "             temp2.append('True')\n",
    "         else:\n",
    "             temp2.append('False')\n",
    "     \n",
    "     temp = pd.DataFrame(temp2,columns=['Holiday2'])\n",
    "     temp1.loc[temp1['Holiday'].eq('False') & temp['Holiday2'].eq('True')] = 'True'\n",
    "     #data = pd.concat([data,temp],1)\n",
    "     return temp1"
   ]
  },
  {
   "cell_type": "markdown",
   "metadata": {},
   "source": [
    "###############################################################################################################################"
   ]
  },
  {
   "cell_type": "code",
   "execution_count": 25,
   "metadata": {},
   "outputs": [
    {
     "name": "stdout",
     "output_type": "stream",
     "text": [
      "(277972, 5)\n",
      "(277972, 1)\n"
     ]
    }
   ],
   "source": [
    "#Holiday flag 2018\n",
    "holi = dateHoliday(data18,publicHoliday2018)\n",
    "\n",
    "#Data Dimension\n",
    "print(data18.shape)\n",
    "print(holi.shape)\n",
    "\n",
    "#Reset index\n",
    "holi.reset_index(drop=True, inplace=True)\n",
    "data18.reset_index(drop=True, inplace=True)\n",
    "\n",
    "holidayData18 = pd.concat([data18,holi],1)\n",
    "holidayData18 = holidayData18.sort_values(['GI_Date'])"
   ]
  },
  {
   "cell_type": "code",
   "execution_count": 26,
   "metadata": {},
   "outputs": [
    {
     "data": {
      "text/html": [
       "<div>\n",
       "<style scoped>\n",
       "    .dataframe tbody tr th:only-of-type {\n",
       "        vertical-align: middle;\n",
       "    }\n",
       "\n",
       "    .dataframe tbody tr th {\n",
       "        vertical-align: top;\n",
       "    }\n",
       "\n",
       "    .dataframe thead th {\n",
       "        text-align: right;\n",
       "    }\n",
       "</style>\n",
       "<table border=\"1\" class=\"dataframe\">\n",
       "  <thead>\n",
       "    <tr style=\"text-align: right;\">\n",
       "      <th></th>\n",
       "      <th>Material</th>\n",
       "      <th>SO No</th>\n",
       "      <th>GI_Date</th>\n",
       "      <th>NW(Kg)</th>\n",
       "      <th>Value (IDR)</th>\n",
       "      <th>Holiday</th>\n",
       "    </tr>\n",
       "  </thead>\n",
       "  <tbody>\n",
       "    <tr>\n",
       "      <th>17473</th>\n",
       "      <td>69914087.0</td>\n",
       "      <td>2.300034e+09</td>\n",
       "      <td>2018-01-02</td>\n",
       "      <td>159.672</td>\n",
       "      <td>5116691.0</td>\n",
       "      <td>False</td>\n",
       "    </tr>\n",
       "    <tr>\n",
       "      <th>119934</th>\n",
       "      <td>69917167.0</td>\n",
       "      <td>2.300034e+09</td>\n",
       "      <td>2018-01-02</td>\n",
       "      <td>120.000</td>\n",
       "      <td>2866609.0</td>\n",
       "      <td>False</td>\n",
       "    </tr>\n",
       "    <tr>\n",
       "      <th>203853</th>\n",
       "      <td>69917434.0</td>\n",
       "      <td>2.300034e+09</td>\n",
       "      <td>2018-01-02</td>\n",
       "      <td>86.500</td>\n",
       "      <td>2770327.0</td>\n",
       "      <td>False</td>\n",
       "    </tr>\n",
       "    <tr>\n",
       "      <th>49108</th>\n",
       "      <td>69916125.0</td>\n",
       "      <td>1.907009e+09</td>\n",
       "      <td>2018-01-02</td>\n",
       "      <td>188.775</td>\n",
       "      <td>3115035.0</td>\n",
       "      <td>False</td>\n",
       "    </tr>\n",
       "    <tr>\n",
       "      <th>119935</th>\n",
       "      <td>69917167.0</td>\n",
       "      <td>2.300034e+09</td>\n",
       "      <td>2018-01-02</td>\n",
       "      <td>600.000</td>\n",
       "      <td>14333045.0</td>\n",
       "      <td>False</td>\n",
       "    </tr>\n",
       "  </tbody>\n",
       "</table>\n",
       "</div>"
      ],
      "text/plain": [
       "          Material         SO No    GI_Date   NW(Kg)  Value (IDR) Holiday\n",
       "17473   69914087.0  2.300034e+09 2018-01-02  159.672    5116691.0   False\n",
       "119934  69917167.0  2.300034e+09 2018-01-02  120.000    2866609.0   False\n",
       "203853  69917434.0  2.300034e+09 2018-01-02   86.500    2770327.0   False\n",
       "49108   69916125.0  1.907009e+09 2018-01-02  188.775    3115035.0   False\n",
       "119935  69917167.0  2.300034e+09 2018-01-02  600.000   14333045.0   False"
      ]
     },
     "execution_count": 26,
     "metadata": {},
     "output_type": "execute_result"
    }
   ],
   "source": [
    "holidayData18.head()"
   ]
  },
  {
   "cell_type": "markdown",
   "metadata": {},
   "source": [
    "###############################################################################################################################"
   ]
  },
  {
   "cell_type": "code",
   "execution_count": 27,
   "metadata": {},
   "outputs": [
    {
     "name": "stdout",
     "output_type": "stream",
     "text": [
      "(262381, 5)\n",
      "(262381, 1)\n"
     ]
    }
   ],
   "source": [
    "#Holiday flag 2017\n",
    "holi = dateHoliday(data17,publicHoliday2017)\n",
    "\n",
    "#Data Dimension\n",
    "print(data17.shape)\n",
    "print(holi.shape)\n",
    "\n",
    "#Reset index\n",
    "holi.reset_index(drop=True, inplace=True)\n",
    "data17.reset_index(drop=True, inplace=True)\n",
    "\n",
    "holidayData17 = pd.concat([data17,holi],1)\n",
    "holidayData17 = holidayData17.sort_values(['GI_Date'])"
   ]
  },
  {
   "cell_type": "code",
   "execution_count": 28,
   "metadata": {},
   "outputs": [
    {
     "data": {
      "text/html": [
       "<div>\n",
       "<style scoped>\n",
       "    .dataframe tbody tr th:only-of-type {\n",
       "        vertical-align: middle;\n",
       "    }\n",
       "\n",
       "    .dataframe tbody tr th {\n",
       "        vertical-align: top;\n",
       "    }\n",
       "\n",
       "    .dataframe thead th {\n",
       "        text-align: right;\n",
       "    }\n",
       "</style>\n",
       "<table border=\"1\" class=\"dataframe\">\n",
       "  <thead>\n",
       "    <tr style=\"text-align: right;\">\n",
       "      <th></th>\n",
       "      <th>Material</th>\n",
       "      <th>SO No</th>\n",
       "      <th>GI_Date</th>\n",
       "      <th>NW(Kg)</th>\n",
       "      <th>Value (IDR)</th>\n",
       "      <th>Holiday</th>\n",
       "    </tr>\n",
       "  </thead>\n",
       "  <tbody>\n",
       "    <tr>\n",
       "      <th>119161</th>\n",
       "      <td>69916514.0</td>\n",
       "      <td>1.852048e+09</td>\n",
       "      <td>2017-01-02</td>\n",
       "      <td>8.921</td>\n",
       "      <td>256811.0</td>\n",
       "      <td>True</td>\n",
       "    </tr>\n",
       "    <tr>\n",
       "      <th>109322</th>\n",
       "      <td>69916473.0</td>\n",
       "      <td>1.852048e+09</td>\n",
       "      <td>2017-01-02</td>\n",
       "      <td>307.611</td>\n",
       "      <td>8487818.0</td>\n",
       "      <td>True</td>\n",
       "    </tr>\n",
       "    <tr>\n",
       "      <th>109323</th>\n",
       "      <td>69916473.0</td>\n",
       "      <td>1.852048e+09</td>\n",
       "      <td>2017-01-02</td>\n",
       "      <td>296.218</td>\n",
       "      <td>8173454.0</td>\n",
       "      <td>True</td>\n",
       "    </tr>\n",
       "    <tr>\n",
       "      <th>33409</th>\n",
       "      <td>69914453.0</td>\n",
       "      <td>1.852048e+09</td>\n",
       "      <td>2017-01-02</td>\n",
       "      <td>5.000</td>\n",
       "      <td>154280.0</td>\n",
       "      <td>True</td>\n",
       "    </tr>\n",
       "    <tr>\n",
       "      <th>33410</th>\n",
       "      <td>69914453.0</td>\n",
       "      <td>1.852049e+09</td>\n",
       "      <td>2017-01-02</td>\n",
       "      <td>10.000</td>\n",
       "      <td>308560.0</td>\n",
       "      <td>True</td>\n",
       "    </tr>\n",
       "  </tbody>\n",
       "</table>\n",
       "</div>"
      ],
      "text/plain": [
       "          Material         SO No    GI_Date   NW(Kg)  Value (IDR) Holiday\n",
       "119161  69916514.0  1.852048e+09 2017-01-02    8.921     256811.0    True\n",
       "109322  69916473.0  1.852048e+09 2017-01-02  307.611    8487818.0    True\n",
       "109323  69916473.0  1.852048e+09 2017-01-02  296.218    8173454.0    True\n",
       "33409   69914453.0  1.852048e+09 2017-01-02    5.000     154280.0    True\n",
       "33410   69914453.0  1.852049e+09 2017-01-02   10.000     308560.0    True"
      ]
     },
     "execution_count": 28,
     "metadata": {},
     "output_type": "execute_result"
    }
   ],
   "source": [
    "holidayData17.head()"
   ]
  },
  {
   "cell_type": "markdown",
   "metadata": {},
   "source": [
    "############################################################################################################################### "
   ]
  },
  {
   "cell_type": "code",
   "execution_count": 29,
   "metadata": {},
   "outputs": [
    {
     "name": "stdout",
     "output_type": "stream",
     "text": [
      "(255950, 5)\n",
      "(255950, 1)\n"
     ]
    }
   ],
   "source": [
    "#Holiday flag 2016\n",
    "holi = dateHoliday(data16,publicHoliday2016)\n",
    "\n",
    "#Data Dimension\n",
    "print(data16.shape)\n",
    "print(holi.shape)\n",
    "\n",
    "#Reset index\n",
    "holi.reset_index(drop=True, inplace=True)\n",
    "data16.reset_index(drop=True, inplace=True)\n",
    "\n",
    "holidayData16 = pd.concat([data16,holi],1)\n",
    "holidayData16 = holidayData16.sort_values(['GI_Date'])"
   ]
  },
  {
   "cell_type": "code",
   "execution_count": 30,
   "metadata": {},
   "outputs": [
    {
     "data": {
      "text/html": [
       "<div>\n",
       "<style scoped>\n",
       "    .dataframe tbody tr th:only-of-type {\n",
       "        vertical-align: middle;\n",
       "    }\n",
       "\n",
       "    .dataframe tbody tr th {\n",
       "        vertical-align: top;\n",
       "    }\n",
       "\n",
       "    .dataframe thead th {\n",
       "        text-align: right;\n",
       "    }\n",
       "</style>\n",
       "<table border=\"1\" class=\"dataframe\">\n",
       "  <thead>\n",
       "    <tr style=\"text-align: right;\">\n",
       "      <th></th>\n",
       "      <th>Material</th>\n",
       "      <th>SO No</th>\n",
       "      <th>GI_Date</th>\n",
       "      <th>NW(Kg)</th>\n",
       "      <th>Value (IDR)</th>\n",
       "      <th>Holiday</th>\n",
       "    </tr>\n",
       "  </thead>\n",
       "  <tbody>\n",
       "    <tr>\n",
       "      <th>74651</th>\n",
       "      <td>69914556.0</td>\n",
       "      <td>1.907002e+09</td>\n",
       "      <td>2016-01-01</td>\n",
       "      <td>609.400</td>\n",
       "      <td>15251364.0</td>\n",
       "      <td>True</td>\n",
       "    </tr>\n",
       "    <tr>\n",
       "      <th>4425</th>\n",
       "      <td>69910071.0</td>\n",
       "      <td>1.852001e+09</td>\n",
       "      <td>2016-01-01</td>\n",
       "      <td>58.806</td>\n",
       "      <td>1150802.0</td>\n",
       "      <td>True</td>\n",
       "    </tr>\n",
       "    <tr>\n",
       "      <th>39219</th>\n",
       "      <td>69913802.0</td>\n",
       "      <td>1.852001e+09</td>\n",
       "      <td>2016-01-01</td>\n",
       "      <td>12.442</td>\n",
       "      <td>291169.0</td>\n",
       "      <td>True</td>\n",
       "    </tr>\n",
       "    <tr>\n",
       "      <th>29605</th>\n",
       "      <td>69913201.0</td>\n",
       "      <td>1.852001e+09</td>\n",
       "      <td>2016-01-01</td>\n",
       "      <td>318.250</td>\n",
       "      <td>7048880.0</td>\n",
       "      <td>True</td>\n",
       "    </tr>\n",
       "    <tr>\n",
       "      <th>310</th>\n",
       "      <td>69906074.0</td>\n",
       "      <td>1.852001e+09</td>\n",
       "      <td>2016-01-01</td>\n",
       "      <td>675.000</td>\n",
       "      <td>12916432.0</td>\n",
       "      <td>True</td>\n",
       "    </tr>\n",
       "  </tbody>\n",
       "</table>\n",
       "</div>"
      ],
      "text/plain": [
       "         Material         SO No    GI_Date   NW(Kg)  Value (IDR) Holiday\n",
       "74651  69914556.0  1.907002e+09 2016-01-01  609.400   15251364.0    True\n",
       "4425   69910071.0  1.852001e+09 2016-01-01   58.806    1150802.0    True\n",
       "39219  69913802.0  1.852001e+09 2016-01-01   12.442     291169.0    True\n",
       "29605  69913201.0  1.852001e+09 2016-01-01  318.250    7048880.0    True\n",
       "310    69906074.0  1.852001e+09 2016-01-01  675.000   12916432.0    True"
      ]
     },
     "execution_count": 30,
     "metadata": {},
     "output_type": "execute_result"
    }
   ],
   "source": [
    "holidayData16.head()"
   ]
  },
  {
   "cell_type": "markdown",
   "metadata": {},
   "source": [
    "###############################################################################################################################"
   ]
  },
  {
   "cell_type": "code",
   "execution_count": 31,
   "metadata": {},
   "outputs": [
    {
     "name": "stdout",
     "output_type": "stream",
     "text": [
      "(222106, 5)\n",
      "(222106, 1)\n"
     ]
    }
   ],
   "source": [
    "#Holiday flag 2015\n",
    "holi = dateHoliday(data15,publicHoliday2015)\n",
    "\n",
    "#Data Dimension\n",
    "print(data15.shape)\n",
    "print(holi.shape)\n",
    "\n",
    "#Reset index\n",
    "holi.reset_index(drop=True, inplace=True)\n",
    "data15.reset_index(drop=True, inplace=True)\n",
    "\n",
    "holidayData15 = pd.concat([data15,holi],1)\n",
    "holidayData15 = holidayData15.sort_values(['GI_Date'])"
   ]
  },
  {
   "cell_type": "code",
   "execution_count": 32,
   "metadata": {},
   "outputs": [
    {
     "data": {
      "text/html": [
       "<div>\n",
       "<style scoped>\n",
       "    .dataframe tbody tr th:only-of-type {\n",
       "        vertical-align: middle;\n",
       "    }\n",
       "\n",
       "    .dataframe tbody tr th {\n",
       "        vertical-align: top;\n",
       "    }\n",
       "\n",
       "    .dataframe thead th {\n",
       "        text-align: right;\n",
       "    }\n",
       "</style>\n",
       "<table border=\"1\" class=\"dataframe\">\n",
       "  <thead>\n",
       "    <tr style=\"text-align: right;\">\n",
       "      <th></th>\n",
       "      <th>Material</th>\n",
       "      <th>SO No</th>\n",
       "      <th>GI_Date</th>\n",
       "      <th>NW(Kg)</th>\n",
       "      <th>Value (IDR)</th>\n",
       "      <th>Holiday</th>\n",
       "    </tr>\n",
       "  </thead>\n",
       "  <tbody>\n",
       "    <tr>\n",
       "      <th>167062</th>\n",
       "      <td>69914779.0</td>\n",
       "      <td>1.506504e+09</td>\n",
       "      <td>2015-01-01</td>\n",
       "      <td>115.740</td>\n",
       "      <td>5073000.0</td>\n",
       "      <td>True</td>\n",
       "    </tr>\n",
       "    <tr>\n",
       "      <th>45168</th>\n",
       "      <td>69911836.0</td>\n",
       "      <td>3.090064e+09</td>\n",
       "      <td>2015-01-02</td>\n",
       "      <td>102.420</td>\n",
       "      <td>2686254.0</td>\n",
       "      <td>False</td>\n",
       "    </tr>\n",
       "    <tr>\n",
       "      <th>190089</th>\n",
       "      <td>69915410.0</td>\n",
       "      <td>3.090064e+09</td>\n",
       "      <td>2015-01-02</td>\n",
       "      <td>19.008</td>\n",
       "      <td>418182.0</td>\n",
       "      <td>False</td>\n",
       "    </tr>\n",
       "    <tr>\n",
       "      <th>189689</th>\n",
       "      <td>69915312.0</td>\n",
       "      <td>3.090064e+09</td>\n",
       "      <td>2015-01-02</td>\n",
       "      <td>17.637</td>\n",
       "      <td>540982.0</td>\n",
       "      <td>False</td>\n",
       "    </tr>\n",
       "    <tr>\n",
       "      <th>189688</th>\n",
       "      <td>69915312.0</td>\n",
       "      <td>3.090064e+09</td>\n",
       "      <td>2015-01-02</td>\n",
       "      <td>205.765</td>\n",
       "      <td>6311454.0</td>\n",
       "      <td>False</td>\n",
       "    </tr>\n",
       "  </tbody>\n",
       "</table>\n",
       "</div>"
      ],
      "text/plain": [
       "          Material         SO No    GI_Date   NW(Kg)  Value (IDR) Holiday\n",
       "167062  69914779.0  1.506504e+09 2015-01-01  115.740    5073000.0    True\n",
       "45168   69911836.0  3.090064e+09 2015-01-02  102.420    2686254.0   False\n",
       "190089  69915410.0  3.090064e+09 2015-01-02   19.008     418182.0   False\n",
       "189689  69915312.0  3.090064e+09 2015-01-02   17.637     540982.0   False\n",
       "189688  69915312.0  3.090064e+09 2015-01-02  205.765    6311454.0   False"
      ]
     },
     "execution_count": 32,
     "metadata": {},
     "output_type": "execute_result"
    }
   ],
   "source": [
    "holidayData15.head()"
   ]
  }
 ],
 "metadata": {
  "kernelspec": {
   "display_name": "Python 3",
   "language": "python",
   "name": "python3"
  },
  "language_info": {
   "codemirror_mode": {
    "name": "ipython",
    "version": 3
   },
   "file_extension": ".py",
   "mimetype": "text/x-python",
   "name": "python",
   "nbconvert_exporter": "python",
   "pygments_lexer": "ipython3",
   "version": "3.7.1"
  }
 },
 "nbformat": 4,
 "nbformat_minor": 2
}
